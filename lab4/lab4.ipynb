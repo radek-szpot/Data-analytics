{
 "cells": [
  {
   "attachments": {},
   "cell_type": "markdown",
   "metadata": {},
   "source": [
    "# <center>Data Analytics laboratory </center>\n",
    "\n",
    "## <center>Linear models - modelling height of !Kung people</center>"
   ]
  },
  {
   "cell_type": "code",
   "execution_count": 83,
   "metadata": {
    "vscode": {
     "languageId": "python"
    }
   },
   "outputs": [],
   "source": [
    "from cmdstanpy import CmdStanModel\n",
    "import pandas as pd\n",
    "import arviz as az \n",
    "import numpy as npx\n",
    "import matplotlib.pyplot as plt\n",
    "import scipy.stats as stats\n",
    "\n",
    "import warnings\n",
    "warnings.filterwarnings('ignore')"
   ]
  },
  {
   "cell_type": "code",
   "execution_count": 84,
   "metadata": {
    "vscode": {
     "languageId": "python"
    }
   },
   "outputs": [
    {
     "data": {
      "text/html": [
       "<div>\n",
       "<style scoped>\n",
       "    .dataframe tbody tr th:only-of-type {\n",
       "        vertical-align: middle;\n",
       "    }\n",
       "\n",
       "    .dataframe tbody tr th {\n",
       "        vertical-align: top;\n",
       "    }\n",
       "\n",
       "    .dataframe thead th {\n",
       "        text-align: right;\n",
       "    }\n",
       "</style>\n",
       "<table border=\"1\" class=\"dataframe\">\n",
       "  <thead>\n",
       "    <tr style=\"text-align: right;\">\n",
       "      <th></th>\n",
       "      <th>height</th>\n",
       "      <th>weight</th>\n",
       "      <th>age</th>\n",
       "      <th>male</th>\n",
       "    </tr>\n",
       "  </thead>\n",
       "  <tbody>\n",
       "    <tr>\n",
       "      <th>0</th>\n",
       "      <td>151.765</td>\n",
       "      <td>47.825606</td>\n",
       "      <td>63.0</td>\n",
       "      <td>1</td>\n",
       "    </tr>\n",
       "    <tr>\n",
       "      <th>1</th>\n",
       "      <td>139.700</td>\n",
       "      <td>36.485807</td>\n",
       "      <td>63.0</td>\n",
       "      <td>0</td>\n",
       "    </tr>\n",
       "    <tr>\n",
       "      <th>2</th>\n",
       "      <td>136.525</td>\n",
       "      <td>31.864838</td>\n",
       "      <td>65.0</td>\n",
       "      <td>0</td>\n",
       "    </tr>\n",
       "    <tr>\n",
       "      <th>3</th>\n",
       "      <td>156.845</td>\n",
       "      <td>53.041914</td>\n",
       "      <td>41.0</td>\n",
       "      <td>1</td>\n",
       "    </tr>\n",
       "    <tr>\n",
       "      <th>4</th>\n",
       "      <td>145.415</td>\n",
       "      <td>41.276872</td>\n",
       "      <td>51.0</td>\n",
       "      <td>0</td>\n",
       "    </tr>\n",
       "  </tbody>\n",
       "</table>\n",
       "</div>"
      ],
      "text/plain": [
       "    height     weight   age  male\n",
       "0  151.765  47.825606  63.0     1\n",
       "1  139.700  36.485807  63.0     0\n",
       "2  136.525  31.864838  65.0     0\n",
       "3  156.845  53.041914  41.0     1\n",
       "4  145.415  41.276872  51.0     0"
      ]
     },
     "execution_count": 84,
     "metadata": {},
     "output_type": "execute_result"
    }
   ],
   "source": [
    "_BASE_URL = \"https://raw.githubusercontent.com/rmcelreath/rethinking/Experimental/data\"\n",
    "HOWELL_DATASET_PATH = f\"{_BASE_URL}/Howell1.csv\"\n",
    "d = pd.read_csv(HOWELL_DATASET_PATH, sep=';', header=0)\n",
    "d=d[d.age>=18] #just adults \n",
    "d.head()"
   ]
  },
  {
   "attachments": {},
   "cell_type": "markdown",
   "metadata": {},
   "source": [
    "### Task 1"
   ]
  },
  {
   "cell_type": "code",
   "execution_count": 85,
   "metadata": {
    "vscode": {
     "languageId": "python"
    }
   },
   "outputs": [
    {
     "name": "stdout",
     "output_type": "stream",
     "text": [
      "Overwriting height_1_ppc.stan\n"
     ]
    }
   ],
   "source": [
    "%%writefile height_1_ppc.stan\n",
    "\n",
    "\n",
    "data {\n",
    "  int<lower=0> N; // number of observations\n",
    "}\n",
    "\n",
    "parameters {\n",
    "  real mu; // mean height\n",
    "  real<lower=0> sigma; // standard deviation of height\n",
    "}\n",
    "\n",
    "model {\n",
    "  mu ~ normal(160, 10); // reasonable mean height\n",
    "  sigma ~ normal(15, 5); // reasonable prior for standard deviation\n",
    "}\n",
    "\n",
    "generated quantities {\n",
    "  real height_sim;\n",
    "  height_sim = normal_rng(mu, sigma); // simulate height measurement\n",
    "}\n"
   ]
  },
  {
   "cell_type": "code",
   "execution_count": 86,
   "metadata": {
    "vscode": {
     "languageId": "python"
    }
   },
   "outputs": [
    {
     "name": "stderr",
     "output_type": "stream",
     "text": [
      "INFO:cmdstanpy:compiling stan file /height_1_ppc.stan to exe file /height_1_ppc\n",
      "INFO:cmdstanpy:compiled model executable: /height_1_ppc\n",
      "INFO:cmdstanpy:CmdStan start processing\n",
      "chain 1 |\u001b[33m          \u001b[0m| 00:00 Status\n",
      "\u001b[A\n",
      "\n",
      "chain 1 |\u001b[34m██████████\u001b[0m| 00:00 Sampling completed\n",
      "chain 2 |\u001b[34m██████████\u001b[0m| 00:00 Sampling completed\n",
      "chain 3 |\u001b[34m██████████\u001b[0m| 00:00 Sampling completed\n",
      "chain 4 |\u001b[34m██████████\u001b[0m| 00:00 Sampling completed"
     ]
    },
    {
     "name": "stdout",
     "output_type": "stream",
     "text": [
      "                                                                                                                                                                                                                                                                                                                                "
     ]
    },
    {
     "name": "stderr",
     "output_type": "stream",
     "text": [
      "\n",
      "INFO:cmdstanpy:CmdStan done processing.\n"
     ]
    },
    {
     "name": "stdout",
     "output_type": "stream",
     "text": [
      "\n",
      "      lp__  accept_stat__  stepsize__  treedepth__  n_leapfrog__  divergent__  \\\n",
      "0  2.75605       1.000000    0.761224          2.0           3.0          0.0   \n",
      "1  1.72830       0.794188    0.761224          1.0           3.0          0.0   \n",
      "2  1.72830       0.576825    0.761224          2.0           7.0          0.0   \n",
      "3  2.28005       1.000000    0.761224          2.0           5.0          0.0   \n",
      "4  2.25269       0.985571    0.761224          2.0           3.0          0.0   \n",
      "\n",
      "   energy__       mu    sigma  height_sim  \n",
      "0 -2.339300  160.680  16.5221     198.663  \n",
      "1 -1.538450  155.102  23.0261     130.062  \n",
      "2 -0.291143  155.102  23.0261     112.109  \n",
      "3 -1.504630  166.982  13.2572     184.229  \n",
      "4 -1.904020  170.056  16.5831     204.658  \n",
      "Simulated height measurement: 159.63 cm\n"
     ]
    },
    {
     "data": {
      "image/png": "[encoded data removed]",
      "text/plain": [
       "<Figure size 432x288 with 1 Axes>"
      ]
     },
     "metadata": {
      "needs_background": "light"
     },
     "output_type": "display_data"
    },
    {
     "name": "stderr",
     "output_type": "stream",
     "text": [
      "arviz - WARNING - Shape validation failed: input_shape: (1, 1), minimum_shape: (chains=1, draws=4)\n"
     ]
    },
    {
     "data": {
      "text/html": [
       "<div>\n",
       "<style scoped>\n",
       "    .dataframe tbody tr th:only-of-type {\n",
       "        vertical-align: middle;\n",
       "    }\n",
       "\n",
       "    .dataframe tbody tr th {\n",
       "        vertical-align: top;\n",
       "    }\n",
       "\n",
       "    .dataframe thead th {\n",
       "        text-align: right;\n",
       "    }\n",
       "</style>\n",
       "<table border=\"1\" class=\"dataframe\">\n",
       "  <thead>\n",
       "    <tr style=\"text-align: right;\">\n",
       "      <th></th>\n",
       "      <th>mean</th>\n",
       "      <th>sd</th>\n",
       "      <th>hdi_3%</th>\n",
       "      <th>hdi_97%</th>\n",
       "      <th>mcse_mean</th>\n",
       "      <th>mcse_sd</th>\n",
       "      <th>ess_bulk</th>\n",
       "      <th>ess_tail</th>\n",
       "      <th>r_hat</th>\n",
       "    </tr>\n",
       "  </thead>\n",
       "  <tbody>\n",
       "    <tr>\n",
       "      <th>heights</th>\n",
       "      <td>159.631</td>\n",
       "      <td>NaN</td>\n",
       "      <td>159.631</td>\n",
       "      <td>159.631</td>\n",
       "      <td>NaN</td>\n",
       "      <td>NaN</td>\n",
       "      <td>NaN</td>\n",
       "      <td>NaN</td>\n",
       "      <td>NaN</td>\n",
       "    </tr>\n",
       "  </tbody>\n",
       "</table>\n",
       "</div>"
      ],
      "text/plain": [
       "            mean  sd   hdi_3%  hdi_97%  mcse_mean  mcse_sd  ess_bulk  \\\n",
       "heights  159.631 NaN  159.631  159.631        NaN      NaN       NaN   \n",
       "\n",
       "         ess_tail  r_hat  \n",
       "heights       NaN    NaN  "
      ]
     },
     "execution_count": 86,
     "metadata": {},
     "output_type": "execute_result"
    }
   ],
   "source": [
    "N = 100\n",
    "model = CmdStanModel(stan_file='height_1_ppc.stan')\n",
    "\n",
    "samples = model.sample(data={'N': N})\n",
    "simulated_height = samples.stan_variable('height_sim').mean()\n",
    "df = samples.draws_pd()\n",
    "print(df.head())\n",
    "\n",
    "\n",
    "print(f\"Simulated height measurement: {simulated_height:.2f} cm\")\n",
    "\n",
    "# Plot the histogram of the generated heights\n",
    "plt.hist(df['height_sim'])\n",
    "plt.show()\n",
    "az.summary({'heights': simulated_height})"
   ]
  },
  {
   "cell_type": "code",
   "execution_count": 87,
   "metadata": {
    "vscode": {
     "languageId": "python"
    }
   },
   "outputs": [
    {
     "name": "stderr",
     "output_type": "stream",
     "text": [
      "INFO:cmdstanpy:found newer exe file, not recompiling\n",
      "INFO:cmdstanpy:CmdStan start processing\n",
      "chain 1 |\u001b[34m██████████\u001b[0m| 00:00 Sampling completed"
     ]
    },
    {
     "name": "stdout",
     "output_type": "stream",
     "text": [
      "                                                                                "
     ]
    },
    {
     "name": "stderr",
     "output_type": "stream",
     "text": [
      "\n",
      "INFO:cmdstanpy:CmdStan done processing.\n"
     ]
    },
    {
     "name": "stdout",
     "output_type": "stream",
     "text": [
      "\n"
     ]
    },
    {
     "data": {
      "image/png": "[encoded data removed]",
      "text/plain": [
       "<Figure size 432x288 with 1 Axes>"
      ]
     },
     "metadata": {
      "needs_background": "light"
     },
     "output_type": "display_data"
    }
   ],
   "source": [
    "model_ppc=CmdStanModel(stan_file='height_1_ppc.stan')\n",
    "\n",
    "R = 1000\n",
    "sim=model_ppc.sample(data={'N': N},\n",
    "                     iter_sampling=R,\n",
    "                     iter_warmup=0,\n",
    "                     chains=1,\n",
    "                     fixed_param=True,\n",
    "                     seed=29042020,refresh=R)\n",
    "\n",
    "df = sim.draws_pd()\n",
    "# Plot the histogram of the generated heights\n",
    "plt.hist(df['height_sim'])\n",
    "plt.title(\"generated heights\")\n",
    "plt.show()"
   ]
  },
  {
   "attachments": {},
   "cell_type": "markdown",
   "metadata": {},
   "source": [
    "### Task 2"
   ]
  },
  {
   "cell_type": "code",
   "execution_count": 88,
   "metadata": {
    "vscode": {
     "languageId": "python"
    }
   },
   "outputs": [
    {
     "name": "stdout",
     "output_type": "stream",
     "text": [
      "Overwriting height_1_fit.stan\n"
     ]
    }
   ],
   "source": [
    "%%writefile height_1_fit.stan\n",
    "\n",
    "\n",
    "data {\n",
    "  int<lower=0> N;\n",
    "  real<lower=0> heights[N];\n",
    "}\n",
    "\n",
    "parameters {\n",
    "  real<lower=0> mu;\n",
    "  real<lower=0> sigma;\n",
    "}\n",
    "\n",
    "model {\n",
    "  mu ~ normal(165, 10);\n",
    "  sigma ~ cauchy(0, 10);\n",
    "  heights ~ normal(mu, sigma);\n",
    "}\n",
    "\n",
    "generated quantities {\n",
    "  real height_prediction = normal_rng(mu, sigma);\n",
    "}"
   ]
  },
  {
   "cell_type": "code",
   "execution_count": 89,
   "metadata": {
    "vscode": {
     "languageId": "python"
    }
   },
   "outputs": [
    {
     "name": "stderr",
     "output_type": "stream",
     "text": [
      "INFO:cmdstanpy:compiling stan file /height_1_fit.stan to exe file /height_1_fit\n",
      "INFO:cmdstanpy:compiled model executable: /height_1_fit\n",
      "WARNING:cmdstanpy:Stan compiler has produced 1 warnings:\n",
      "WARNING:cmdstanpy:\n",
      "--- Translating Stan model to C++ code ---\n",
      "bin/stanc  --o=/height_1_fit.hpp /height_1_fit.stan\n",
      "Warning in '/height_1_fit.stan', line 5, column 2: Declaration of arrays by\n",
      "    placing brackets after a variable name is deprecated and will be removed\n",
      "    in Stan 2.32.0. Instead use the array keyword before the type. This can\n",
      "    be changed automatically using the auto-format flag to stanc\n",
      "\n",
      "--- Compiling, linking C++ code ---\n",
      "g++ -std=c++1y -pthread -D_REENTRANT -Wno-sign-compare -Wno-ignored-attributes      -I stan/lib/stan_math/lib/tbb_2020.3/include    -O3 -I src -I stan/src -I lib/rapidjson_1.1.0/ -I lib/CLI11-1.9.1/ -I stan/lib/stan_math/ -I stan/lib/stan_math/lib/eigen_3.3.9 -I stan/lib/stan_math/lib/boost_1.75.0 -I stan/lib/stan_math/lib/sundials_6.0.0/include -I stan/lib/stan_math/lib/sundials_6.0.0/src/sundials    -DBOOST_DISABLE_ASSERTS          -c -Wno-ignored-attributes   -x c++ -o /height_1_fit.o /height_1_fit.hpp\n",
      "g++ -std=c++1y -pthread -D_REENTRANT -Wno-sign-compare -Wno-ignored-attributes      -I stan/lib/stan_math/lib/tbb_2020.3/include    -O3 -I src -I stan/src -I lib/rapidjson_1.1.0/ -I lib/CLI11-1.9.1/ -I stan/lib/stan_math/ -I stan/lib/stan_math/lib/eigen_3.3.9 -I stan/lib/stan_math/lib/boost_1.75.0 -I stan/lib/stan_math/lib/sundials_6.0.0/include -I stan/lib/stan_math/lib/sundials_6.0.0/src/sundials    -DBOOST_DISABLE_ASSERTS                -Wl,-L,\"/opt/cmdstan-2.29.0/stan/lib/stan_math/lib/tbb\" -Wl,-rpath,\"/opt/cmdstan-2.29.0/stan/lib/stan_math/lib/tbb\"      /height_1_fit.o src/cmdstan/main.o        -Wl,-L,\"/opt/cmdstan-2.29.0/stan/lib/stan_math/lib/tbb\" -Wl,-rpath,\"/opt/cmdstan-2.29.0/stan/lib/stan_math/lib/tbb\"   stan/lib/stan_math/lib/sundials_6.0.0/lib/libsundials_nvecserial.a stan/lib/stan_math/lib/sundials_6.0.0/lib/libsundials_cvodes.a stan/lib/stan_math/lib/sundials_6.0.0/lib/libsundials_idas.a stan/lib/stan_math/lib/sundials_6.0.0/lib/libsundials_kinsol.a  stan/lib/stan_math/lib/tbb/libtbb.so.2 -o /height_1_fit\n",
      "rm -f /height_1_fit.o\n",
      "\n",
      "INFO:cmdstanpy:CmdStan start processing\n",
      "chain 1 |\u001b[33m          \u001b[0m| 00:00 Status\n",
      "\u001b[A\n",
      "\n",
      "chain 1 |\u001b[34m██████████\u001b[0m| 00:00 Sampling completed\n",
      "chain 2 |\u001b[34m██████████\u001b[0m| 00:00 Sampling completed\n",
      "chain 3 |\u001b[34m██████████\u001b[0m| 00:00 Sampling completed\n",
      "chain 4 |\u001b[34m██████████\u001b[0m| 00:00 Sampling completed"
     ]
    },
    {
     "name": "stdout",
     "output_type": "stream",
     "text": [
      "                                                                                                                                                                                                                                                                                                                                "
     ]
    },
    {
     "name": "stderr",
     "output_type": "stream",
     "text": [
      "\n",
      "INFO:cmdstanpy:CmdStan done processing.\n"
     ]
    },
    {
     "name": "stdout",
     "output_type": "stream",
     "text": [
      "\n",
      "Predicted height: 150.98752320529383\n"
     ]
    }
   ],
   "source": [
    "model = CmdStanModel(stan_file='height_1_fit.stan')\n",
    "fit=model.sample(data=dict(N=len(d),\n",
    "                                   heights=d.height.values),\n",
    "                         seed=28052020)\n",
    "\n",
    "mu = fit.draws_pd()['mu'].mean()\n",
    "sigma = fit.draws_pd()['sigma'].mean()\n",
    "height_prediction = np.random.normal(loc=mu.mean(), scale=sigma.mean())\n",
    "print('Predicted height:', height_prediction)"
   ]
  },
  {
   "cell_type": "code",
   "execution_count": 90,
   "metadata": {
    "vscode": {
     "languageId": "python"
    }
   },
   "outputs": [
    {
     "data": {
      "image/png": "[encoded data removed]",
      "text/plain": [
       "<Figure size 720x288 with 2 Axes>"
      ]
     },
     "metadata": {
      "needs_background": "light"
     },
     "output_type": "display_data"
    }
   ],
   "source": [
    "# Plots\n",
    "plt.show()\n",
    "fig, axs = plt.subplots(1, 2, figsize=(10, 4))\n",
    "axs[0].hist(d.height.values, bins=20, density=True, alpha=0.5, label='Data')\n",
    "axs[0].hist(fit.draws_pd()[\"height_prediction\"], bins=20, density=True, alpha=0.5, label='Predicted')\n",
    "axs[0].set_xlabel('Height')\n",
    "axs[0].set_ylabel('Density')\n",
    "axs[0].legend()\n",
    "axs[1].scatter(mu, sigma)\n",
    "axs[1].set_xlabel('mu')\n",
    "axs[1].set_ylabel('sigma')\n",
    "plt.show()"
   ]
  },
  {
   "attachments": {},
   "cell_type": "markdown",
   "metadata": {},
   "source": [
    "### Task 3"
   ]
  },
  {
   "cell_type": "code",
   "execution_count": 91,
   "metadata": {
    "vscode": {
     "languageId": "python"
    }
   },
   "outputs": [
    {
     "data": {
      "text/html": [
       "<div>\n",
       "<style scoped>\n",
       "    .dataframe tbody tr th:only-of-type {\n",
       "        vertical-align: middle;\n",
       "    }\n",
       "\n",
       "    .dataframe tbody tr th {\n",
       "        vertical-align: top;\n",
       "    }\n",
       "\n",
       "    .dataframe thead th {\n",
       "        text-align: right;\n",
       "    }\n",
       "</style>\n",
       "<table border=\"1\" class=\"dataframe\">\n",
       "  <thead>\n",
       "    <tr style=\"text-align: right;\">\n",
       "      <th></th>\n",
       "      <th>height</th>\n",
       "      <th>weight</th>\n",
       "      <th>age</th>\n",
       "      <th>male</th>\n",
       "      <th>c_weight</th>\n",
       "    </tr>\n",
       "  </thead>\n",
       "  <tbody>\n",
       "    <tr>\n",
       "      <th>0</th>\n",
       "      <td>151.765</td>\n",
       "      <td>47.825606</td>\n",
       "      <td>63.0</td>\n",
       "      <td>1</td>\n",
       "      <td>2.835121</td>\n",
       "    </tr>\n",
       "    <tr>\n",
       "      <th>1</th>\n",
       "      <td>139.700</td>\n",
       "      <td>36.485807</td>\n",
       "      <td>63.0</td>\n",
       "      <td>0</td>\n",
       "      <td>-8.504679</td>\n",
       "    </tr>\n",
       "    <tr>\n",
       "      <th>2</th>\n",
       "      <td>136.525</td>\n",
       "      <td>31.864838</td>\n",
       "      <td>65.0</td>\n",
       "      <td>0</td>\n",
       "      <td>-13.125648</td>\n",
       "    </tr>\n",
       "    <tr>\n",
       "      <th>3</th>\n",
       "      <td>156.845</td>\n",
       "      <td>53.041914</td>\n",
       "      <td>41.0</td>\n",
       "      <td>1</td>\n",
       "      <td>8.051429</td>\n",
       "    </tr>\n",
       "    <tr>\n",
       "      <th>4</th>\n",
       "      <td>145.415</td>\n",
       "      <td>41.276872</td>\n",
       "      <td>51.0</td>\n",
       "      <td>0</td>\n",
       "      <td>-3.713614</td>\n",
       "    </tr>\n",
       "  </tbody>\n",
       "</table>\n",
       "</div>"
      ],
      "text/plain": [
       "    height     weight   age  male   c_weight\n",
       "0  151.765  47.825606  63.0     1   2.835121\n",
       "1  139.700  36.485807  63.0     0  -8.504679\n",
       "2  136.525  31.864838  65.0     0 -13.125648\n",
       "3  156.845  53.041914  41.0     1   8.051429\n",
       "4  145.415  41.276872  51.0     0  -3.713614"
      ]
     },
     "execution_count": 91,
     "metadata": {},
     "output_type": "execute_result"
    }
   ],
   "source": [
    "d['c_weight'] = d['weight'] - d['weight'].mean()\n",
    "data_sim={'N':50, 'weight':np.linspace(d.c_weight.min(),d.c_weight.max())}\n",
    "d.head()"
   ]
  },
  {
   "attachments": {},
   "cell_type": "markdown",
   "metadata": {},
   "source": [
    "### Task 4"
   ]
  },
  {
   "cell_type": "code",
   "execution_count": 92,
   "metadata": {
    "vscode": {
     "languageId": "python"
    }
   },
   "outputs": [
    {
     "name": "stdout",
     "output_type": "stream",
     "text": [
      "Overwriting height_2a_ppc.stan\n"
     ]
    }
   ],
   "source": [
    "%%writefile height_2a_ppc.stan\n",
    "\n",
    "data {\n",
    "  int<lower=0> N;\n",
    "  real weights[N];\n",
    "}\n",
    "\n",
    "parameters {\n",
    "  real<lower=0> alpha;\n",
    "  real<lower=0> beta;\n",
    "  real<lower=0> sigma;\n",
    "}\n",
    "\n",
    "model {\n",
    "  alpha ~ normal(165, 10);\n",
    "  beta ~ normal(0, 1);\n",
    "  sigma ~ cauchy(0, 10);\n",
    "}\n",
    "\n",
    "generated quantities {\n",
    "  real height[N];\n",
    "  for (i in 1:N) {\n",
    "    height[i] = normal_rng(alpha + beta * weights[i], sigma);\n",
    "  }\n",
    "}"
   ]
  },
  {
   "cell_type": "code",
   "execution_count": 93,
   "metadata": {
    "vscode": {
     "languageId": "python"
    }
   },
   "outputs": [
    {
     "name": "stderr",
     "output_type": "stream",
     "text": [
      "INFO:cmdstanpy:compiling stan file /height_2a_ppc.stan to exe file /height_2a_ppc\n",
      "INFO:cmdstanpy:compiled model executable: /height_2a_ppc\n",
      "WARNING:cmdstanpy:Stan compiler has produced 2 warnings:\n",
      "WARNING:cmdstanpy:\n",
      "--- Translating Stan model to C++ code ---\n",
      "bin/stanc  --o=/height_2a_ppc.hpp /height_2a_ppc.stan\n",
      "Warning in '/height_2a_ppc.stan', line 4, column 2: Declaration of arrays by\n",
      "    placing brackets after a variable name is deprecated and will be removed\n",
      "    in Stan 2.32.0. Instead use the array keyword before the type. This can\n",
      "    be changed automatically using the auto-format flag to stanc\n",
      "Warning in '/height_2a_ppc.stan', line 20, column 2: Declaration of arrays by\n",
      "    placing brackets after a variable name is deprecated and will be removed\n",
      "    in Stan 2.32.0. Instead use the array keyword before the type. This can\n",
      "    be changed automatically using the auto-format flag to stanc\n",
      "\n",
      "--- Compiling, linking C++ code ---\n",
      "g++ -std=c++1y -pthread -D_REENTRANT -Wno-sign-compare -Wno-ignored-attributes      -I stan/lib/stan_math/lib/tbb_2020.3/include    -O3 -I src -I stan/src -I lib/rapidjson_1.1.0/ -I lib/CLI11-1.9.1/ -I stan/lib/stan_math/ -I stan/lib/stan_math/lib/eigen_3.3.9 -I stan/lib/stan_math/lib/boost_1.75.0 -I stan/lib/stan_math/lib/sundials_6.0.0/include -I stan/lib/stan_math/lib/sundials_6.0.0/src/sundials    -DBOOST_DISABLE_ASSERTS          -c -Wno-ignored-attributes   -x c++ -o /height_2a_ppc.o /height_2a_ppc.hpp\n",
      "g++ -std=c++1y -pthread -D_REENTRANT -Wno-sign-compare -Wno-ignored-attributes      -I stan/lib/stan_math/lib/tbb_2020.3/include    -O3 -I src -I stan/src -I lib/rapidjson_1.1.0/ -I lib/CLI11-1.9.1/ -I stan/lib/stan_math/ -I stan/lib/stan_math/lib/eigen_3.3.9 -I stan/lib/stan_math/lib/boost_1.75.0 -I stan/lib/stan_math/lib/sundials_6.0.0/include -I stan/lib/stan_math/lib/sundials_6.0.0/src/sundials    -DBOOST_DISABLE_ASSERTS                -Wl,-L,\"/opt/cmdstan-2.29.0/stan/lib/stan_math/lib/tbb\" -Wl,-rpath,\"/opt/cmdstan-2.29.0/stan/lib/stan_math/lib/tbb\"      /height_2a_ppc.o src/cmdstan/main.o        -Wl,-L,\"/opt/cmdstan-2.29.0/stan/lib/stan_math/lib/tbb\" -Wl,-rpath,\"/opt/cmdstan-2.29.0/stan/lib/stan_math/lib/tbb\"   stan/lib/stan_math/lib/sundials_6.0.0/lib/libsundials_nvecserial.a stan/lib/stan_math/lib/sundials_6.0.0/lib/libsundials_cvodes.a stan/lib/stan_math/lib/sundials_6.0.0/lib/libsundials_idas.a stan/lib/stan_math/lib/sundials_6.0.0/lib/libsundials_kinsol.a  stan/lib/stan_math/lib/tbb/libtbb.so.2 -o /height_2a_ppc\n",
      "rm -f /height_2a_ppc.o\n",
      "\n",
      "INFO:cmdstanpy:CmdStan start processing\n",
      "chain 1 |\u001b[34m██████████\u001b[0m| 00:00 Sampling completed                      "
     ]
    },
    {
     "name": "stdout",
     "output_type": "stream",
     "text": [
      "                                                                                "
     ]
    },
    {
     "name": "stderr",
     "output_type": "stream",
     "text": [
      "\n",
      "INFO:cmdstanpy:CmdStan done processing.\n"
     ]
    },
    {
     "name": "stdout",
     "output_type": "stream",
     "text": [
      "\n",
      "   lp__  accept_stat__     alpha     beta    sigma  height[1]  height[2]  \\\n",
      "0   0.0            0.0  0.815985  2.45843  5.44859    5.47300   -20.4391   \n",
      "1   0.0            0.0  0.815985  2.45843  5.44859   10.67770   -14.3368   \n",
      "2   0.0            0.0  0.815985  2.45843  5.44859    7.67555   -30.0321   \n",
      "3   0.0            0.0  0.815985  2.45843  5.44859    3.97870   -26.2437   \n",
      "4   0.0            0.0  0.815985  2.45843  5.44859    8.43092   -22.6842   \n",
      "\n",
      "   height[3]  height[4]  height[5]  ...  height[343]  height[344]  \\\n",
      "0   -38.3846    21.3051  -15.88410  ...     0.957480     15.61890   \n",
      "1   -29.6584    28.1456   -3.18340  ...   -12.593200      6.10148   \n",
      "2   -38.1610    24.0835   -9.70754  ...     1.981750     10.00640   \n",
      "3   -36.9420    15.9041   -2.73475  ...    -0.834998     16.63350   \n",
      "4   -42.1342    15.0853  -10.98260  ...    -5.757420      6.64566   \n",
      "\n",
      "   height[345]  height[346]  height[347]  height[348]  height[349]  \\\n",
      "0    -20.61110     -9.40579    -15.43660     11.70530     -32.8201   \n",
      "1    -14.64940      2.39452     -5.80743     -7.32041     -30.8088   \n",
      "2     -6.17820     -8.79338    -14.98750     -4.89787     -37.1193   \n",
      "3    -11.37040    -11.28080    -16.77110      2.93401     -30.1275   \n",
      "4     -6.77317     -3.81139    -14.72060     15.66900     -30.0064   \n",
      "\n",
      "   height[350]  height[351]  height[352]  \n",
      "0      17.8519      23.7231      22.6609  \n",
      "1      12.9225      23.5753      16.0367  \n",
      "2      21.2055      28.2384      10.5492  \n",
      "3      15.7645      24.9841      17.9532  \n",
      "4      14.5583      20.3230      15.8097  \n",
      "\n",
      "[5 rows x 357 columns]\n"
     ]
    },
    {
     "data": {
      "image/png": "[encoded data removed]",
      "text/plain": [
       "<Figure size 432x288 with 1 Axes>"
      ]
     },
     "metadata": {
      "needs_background": "light"
     },
     "output_type": "display_data"
    }
   ],
   "source": [
    "R = 1000\n",
    "model_ppc = CmdStanModel(stan_file='height_2a_ppc.stan')\n",
    "data_sim = {'N': len(d), 'weights': d.c_weight.values}\n",
    "sim = model_ppc.sample(data=data_sim, iter_sampling=R, iter_warmup=0, chains=1, \n",
    "                       refresh=R, fixed_param=True, seed=29042020)\n",
    "\n",
    "df = sim.draws_pd()\n",
    "print(df.head())\n",
    "\n",
    "# Extract simulated alpha, beta, and height predictions\n",
    "alpha_sim = sim.draws_pd()['alpha']\n",
    "beta_sim = sim.draws_pd()['beta']\n",
    "\n",
    "# Create weight values to plot predictions on\n",
    "weights = np.linspace(d.c_weight.min(), d.c_weight.max(), R)\n",
    "weights_plot = np.ones((1, R)) * weights.reshape((R, 1))\n",
    "\n",
    "plt.scatter(d.c_weight, d.height)\n",
    "heights_plot = np.ndarray((R, 1))\n",
    "for i in range(R):\n",
    "    heights_plot[i] = alpha_sim[i] + beta_sim[i] * weights[i]\n",
    "\n",
    "plt.plot(weights_plot, heights_plot, color='gray')\n",
    "plt.xlabel('Weight (standardized)')\n",
    "plt.ylabel('Height')\n",
    "plt.show()"
   ]
  },
  {
   "attachments": {},
   "cell_type": "markdown",
   "metadata": {},
   "source": [
    "### Task 5"
   ]
  },
  {
   "cell_type": "code",
   "execution_count": 94,
   "metadata": {
    "vscode": {
     "languageId": "python"
    }
   },
   "outputs": [
    {
     "name": "stdout",
     "output_type": "stream",
     "text": [
      "Overwriting height_2b_ppc.stan\n"
     ]
    }
   ],
   "source": [
    "%%writefile height_2b_ppc.stan\n",
    "\n",
    "data {\n",
    "  int<lower=0> N;\n",
    "  real weights[N];\n",
    "}\n",
    "\n",
    "parameters {\n",
    "  real<lower=0> alpha;\n",
    "  real<lower=0> beta;\n",
    "  real<lower=0> sigma;\n",
    "}\n",
    "\n",
    "model {\n",
    "  alpha ~ normal(165, 10);\n",
    "  beta ~ lognormal(0, 1);\n",
    "  sigma ~ cauchy(0, 10);\n",
    "}\n",
    "\n",
    "generated quantities {\n",
    "  real height[N];\n",
    "  for (i in 1:N) {\n",
    "    height[i] = normal_rng(alpha + beta * weights[i], sigma);\n",
    "  }\n",
    "}"
   ]
  },
  {
   "cell_type": "code",
   "execution_count": 95,
   "metadata": {
    "vscode": {
     "languageId": "python"
    }
   },
   "outputs": [
    {
     "name": "stderr",
     "output_type": "stream",
     "text": [
      "INFO:cmdstanpy:compiling stan file /height_2b_ppc.stan to exe file /height_2b_ppc\n",
      "INFO:cmdstanpy:compiled model executable: /height_2b_ppc\n",
      "WARNING:cmdstanpy:Stan compiler has produced 2 warnings:\n",
      "WARNING:cmdstanpy:\n",
      "--- Translating Stan model to C++ code ---\n",
      "bin/stanc  --o=/height_2b_ppc.hpp /height_2b_ppc.stan\n",
      "Warning in '/height_2b_ppc.stan', line 4, column 2: Declaration of arrays by\n",
      "    placing brackets after a variable name is deprecated and will be removed\n",
      "    in Stan 2.32.0. Instead use the array keyword before the type. This can\n",
      "    be changed automatically using the auto-format flag to stanc\n",
      "Warning in '/height_2b_ppc.stan', line 20, column 2: Declaration of arrays by\n",
      "    placing brackets after a variable name is deprecated and will be removed\n",
      "    in Stan 2.32.0. Instead use the array keyword before the type. This can\n",
      "    be changed automatically using the auto-format flag to stanc\n",
      "\n",
      "--- Compiling, linking C++ code ---\n",
      "g++ -std=c++1y -pthread -D_REENTRANT -Wno-sign-compare -Wno-ignored-attributes      -I stan/lib/stan_math/lib/tbb_2020.3/include    -O3 -I src -I stan/src -I lib/rapidjson_1.1.0/ -I lib/CLI11-1.9.1/ -I stan/lib/stan_math/ -I stan/lib/stan_math/lib/eigen_3.3.9 -I stan/lib/stan_math/lib/boost_1.75.0 -I stan/lib/stan_math/lib/sundials_6.0.0/include -I stan/lib/stan_math/lib/sundials_6.0.0/src/sundials    -DBOOST_DISABLE_ASSERTS          -c -Wno-ignored-attributes   -x c++ -o /height_2b_ppc.o /height_2b_ppc.hpp\n",
      "g++ -std=c++1y -pthread -D_REENTRANT -Wno-sign-compare -Wno-ignored-attributes      -I stan/lib/stan_math/lib/tbb_2020.3/include    -O3 -I src -I stan/src -I lib/rapidjson_1.1.0/ -I lib/CLI11-1.9.1/ -I stan/lib/stan_math/ -I stan/lib/stan_math/lib/eigen_3.3.9 -I stan/lib/stan_math/lib/boost_1.75.0 -I stan/lib/stan_math/lib/sundials_6.0.0/include -I stan/lib/stan_math/lib/sundials_6.0.0/src/sundials    -DBOOST_DISABLE_ASSERTS                -Wl,-L,\"/opt/cmdstan-2.29.0/stan/lib/stan_math/lib/tbb\" -Wl,-rpath,\"/opt/cmdstan-2.29.0/stan/lib/stan_math/lib/tbb\"      /height_2b_ppc.o src/cmdstan/main.o        -Wl,-L,\"/opt/cmdstan-2.29.0/stan/lib/stan_math/lib/tbb\" -Wl,-rpath,\"/opt/cmdstan-2.29.0/stan/lib/stan_math/lib/tbb\"   stan/lib/stan_math/lib/sundials_6.0.0/lib/libsundials_nvecserial.a stan/lib/stan_math/lib/sundials_6.0.0/lib/libsundials_cvodes.a stan/lib/stan_math/lib/sundials_6.0.0/lib/libsundials_idas.a stan/lib/stan_math/lib/sundials_6.0.0/lib/libsundials_kinsol.a  stan/lib/stan_math/lib/tbb/libtbb.so.2 -o /height_2b_ppc\n",
      "rm -f /height_2b_ppc.o\n",
      "\n",
      "INFO:cmdstanpy:CmdStan start processing\n",
      "chain 1 |\u001b[34m██████████\u001b[0m| 00:00 Sampling completed                      "
     ]
    },
    {
     "name": "stdout",
     "output_type": "stream",
     "text": [
      "                                                                                "
     ]
    },
    {
     "name": "stderr",
     "output_type": "stream",
     "text": [
      "\n",
      "INFO:cmdstanpy:CmdStan done processing.\n"
     ]
    },
    {
     "name": "stdout",
     "output_type": "stream",
     "text": [
      "\n"
     ]
    },
    {
     "data": {
      "image/png": "[encoded data removed]",
      "text/plain": [
       "<Figure size 432x288 with 1 Axes>"
      ]
     },
     "metadata": {
      "needs_background": "light"
     },
     "output_type": "display_data"
    },
    {
     "data": {
      "image/png": "[encoded data removed]",
      "text/plain": [
       "<Figure size 432x288 with 1 Axes>"
      ]
     },
     "metadata": {
      "needs_background": "light"
     },
     "output_type": "display_data"
    }
   ],
   "source": [
    "model_ppc=CmdStanModel(stan_file='height_2b_ppc.stan')\n",
    "sim=model_ppc.sample(data=data_sim, \n",
    "                     iter_sampling=R, \n",
    "                     iter_warmup=0, \n",
    "                     chains=1, \n",
    "                     refresh=R,\n",
    "                     fixed_param=True,\n",
    "                     seed=29042020)\n",
    "\n",
    "alpha_sim = sim.draws_pd()['alpha']\n",
    "beta_sim = sim.draws_pd()['beta']\n",
    "weights = np.linspace(d.c_weight.min(), d.c_weight.max(), R)\n",
    "weights_plot = np.ones((1, R)) * weights.reshape((R, 1))\n",
    "\n",
    "plt.scatter(d.c_weight, d.height)\n",
    "heights_plot = np.ndarray((R, 1))\n",
    "for i in range(R):\n",
    "    heights_plot[i] = alpha_sim[i] + beta_sim[i] * weights[i]\n",
    "\n",
    "plt.plot(weights_plot, heights_plot, color='gray')\n",
    "plt.xlabel('Weight (standardized)')\n",
    "plt.ylabel('Height')\n",
    "plt.show()\n",
    "\n",
    "# For each simulated weight plot maximum, minimum, and 5, 25, 50, 75, 95 quantiles of simulated weight (all in the same plot). Compare with observed data. Is observed data possible within the prior model?\n",
    "heights = sim.draws_pd().loc[:, 'height[1]':'height[50]'].values\n",
    "# Calculate summary statistics for each simulated weight\n",
    "heights_max = np.max(heights, axis=1)\n",
    "heights_min = np.min(heights, axis=1)\n",
    "heights_q5 = np.quantile(heights, 0.05, axis=1)\n",
    "heights_q25 = np.quantile(heights, 0.25, axis=1)\n",
    "heights_q50 = np.quantile(heights, 0.50, axis=1)\n",
    "heights_q75 = np.quantile(heights, 0.75, axis=1)\n",
    "heights_q95 = np.quantile(heights, 0.95, axis=1)\n",
    "# Plot the summary statistics for each simulated weight\n",
    "fig, ax = plt.subplots()\n",
    "ax.plot(heights_max, 'r--', label='Max')\n",
    "ax.plot(heights_min, 'r--', label='Min')\n",
    "ax.plot(heights_q5, 'b-.', label='5%')\n",
    "ax.plot(heights_q25, 'b--', label='25%')\n",
    "ax.plot(heights_q50, 'b', label='50%')\n",
    "ax.plot(heights_q75, 'b--', label='75%')\n",
    "ax.plot(heights_q95, 'b-.', label='95%')\n",
    "ax.legend()\n",
    "ax.set_xlabel('Simulated Weight')\n",
    "ax.set_ylabel('Simulated Height')\n",
    "plt.show()"
   ]
  },
  {
   "attachments": {},
   "cell_type": "markdown",
   "metadata": {},
   "source": [
    "### Task 6"
   ]
  },
  {
   "cell_type": "code",
   "execution_count": 96,
   "metadata": {
    "vscode": {
     "languageId": "python"
    }
   },
   "outputs": [
    {
     "name": "stdout",
     "output_type": "stream",
     "text": [
      "Overwriting height_2_fit.stan\n"
     ]
    }
   ],
   "source": [
    "%%writefile height_2_fit.stan\n",
    "\n",
    "data {\n",
    "  int<lower=0> N;\n",
    "  real heights[N];\n",
    "  real weights[N];\n",
    "}\n",
    "\n",
    "parameters {\n",
    "  real<lower=0> alpha;\n",
    "  real<lower=0> beta;\n",
    "  real<lower=0> sigma;\n",
    "}\n",
    "\n",
    "transformed parameters {\n",
    "  real<lower=0> mean[N];\n",
    "  for (i in 1:N) {\n",
    "    mean[i] = alpha + beta * weights[i];\n",
    "  }\n",
    "}\n",
    "\n",
    "model {\n",
    "  alpha ~ normal(165, 10);\n",
    "  beta ~ lognormal(0, 1);\n",
    "  sigma ~ cauchy(0, 10);\n",
    "    \n",
    "  for (i in 1:N) {\n",
    "    heights[i] ~ normal(mean[i], sigma);\n",
    "  }\n",
    "}\n",
    "\n",
    "generated quantities {\n",
    "  real height[N];\n",
    "  for (i in 1:N) {\n",
    "    height[i] = normal_rng(mean[i], sigma);\n",
    "  }\n",
    "}\n"
   ]
  },
  {
   "cell_type": "code",
   "execution_count": 97,
   "metadata": {
    "vscode": {
     "languageId": "python"
    }
   },
   "outputs": [
    {
     "name": "stderr",
     "output_type": "stream",
     "text": [
      "INFO:cmdstanpy:compiling stan file /height_2_fit.stan to exe file /height_2_fit\n",
      "INFO:cmdstanpy:compiled model executable: /height_2_fit\n",
      "WARNING:cmdstanpy:Stan compiler has produced 4 warnings:\n",
      "WARNING:cmdstanpy:\n",
      "--- Translating Stan model to C++ code ---\n",
      "bin/stanc  --o=/height_2_fit.hpp /height_2_fit.stan\n",
      "Warning in '/height_2_fit.stan', line 4, column 2: Declaration of arrays by\n",
      "    placing brackets after a variable name is deprecated and will be removed\n",
      "    in Stan 2.32.0. Instead use the array keyword before the type. This can\n",
      "    be changed automatically using the auto-format flag to stanc\n",
      "Warning in '/height_2_fit.stan', line 5, column 2: Declaration of arrays by\n",
      "    placing brackets after a variable name is deprecated and will be removed\n",
      "    in Stan 2.32.0. Instead use the array keyword before the type. This can\n",
      "    be changed automatically using the auto-format flag to stanc\n",
      "Warning in '/height_2_fit.stan', line 15, column 2: Declaration of arrays by\n",
      "    placing brackets after a variable name is deprecated and will be removed\n",
      "    in Stan 2.32.0. Instead use the array keyword before the type. This can\n",
      "    be changed automatically using the auto-format flag to stanc\n",
      "Warning in '/height_2_fit.stan', line 32, column 2: Declaration of arrays by\n",
      "    placing brackets after a variable name is deprecated and will be removed\n",
      "    in Stan 2.32.0. Instead use the array keyword before the type. This can\n",
      "    be changed automatically using the auto-format flag to stanc\n",
      "\n",
      "--- Compiling, linking C++ code ---\n",
      "g++ -std=c++1y -pthread -D_REENTRANT -Wno-sign-compare -Wno-ignored-attributes      -I stan/lib/stan_math/lib/tbb_2020.3/include    -O3 -I src -I stan/src -I lib/rapidjson_1.1.0/ -I lib/CLI11-1.9.1/ -I stan/lib/stan_math/ -I stan/lib/stan_math/lib/eigen_3.3.9 -I stan/lib/stan_math/lib/boost_1.75.0 -I stan/lib/stan_math/lib/sundials_6.0.0/include -I stan/lib/stan_math/lib/sundials_6.0.0/src/sundials    -DBOOST_DISABLE_ASSERTS          -c -Wno-ignored-attributes   -x c++ -o /height_2_fit.o /height_2_fit.hpp\n",
      "g++ -std=c++1y -pthread -D_REENTRANT -Wno-sign-compare -Wno-ignored-attributes      -I stan/lib/stan_math/lib/tbb_2020.3/include    -O3 -I src -I stan/src -I lib/rapidjson_1.1.0/ -I lib/CLI11-1.9.1/ -I stan/lib/stan_math/ -I stan/lib/stan_math/lib/eigen_3.3.9 -I stan/lib/stan_math/lib/boost_1.75.0 -I stan/lib/stan_math/lib/sundials_6.0.0/include -I stan/lib/stan_math/lib/sundials_6.0.0/src/sundials    -DBOOST_DISABLE_ASSERTS                -Wl,-L,\"/opt/cmdstan-2.29.0/stan/lib/stan_math/lib/tbb\" -Wl,-rpath,\"/opt/cmdstan-2.29.0/stan/lib/stan_math/lib/tbb\"      /height_2_fit.o src/cmdstan/main.o        -Wl,-L,\"/opt/cmdstan-2.29.0/stan/lib/stan_math/lib/tbb\" -Wl,-rpath,\"/opt/cmdstan-2.29.0/stan/lib/stan_math/lib/tbb\"   stan/lib/stan_math/lib/sundials_6.0.0/lib/libsundials_nvecserial.a stan/lib/stan_math/lib/sundials_6.0.0/lib/libsundials_cvodes.a stan/lib/stan_math/lib/sundials_6.0.0/lib/libsundials_idas.a stan/lib/stan_math/lib/sundials_6.0.0/lib/libsundials_kinsol.a  stan/lib/stan_math/lib/tbb/libtbb.so.2 -o /height_2_fit\n",
      "rm -f /height_2_fit.o\n",
      "\n",
      "INFO:cmdstanpy:CmdStan start processing\n",
      "chain 1 |\u001b[33m          \u001b[0m| 00:00 Status\n",
      "\u001b[A\n",
      "\n",
      "chain 1 |\u001b[33m████▌     \u001b[0m| 00:00 Iteration:  800 / 2000 [ 40%]  (Warmup)\n",
      "\u001b[A\n",
      "\n",
      "\u001b[A\u001b[A\n",
      "\u001b[A\n",
      "\n",
      "chain 1 |\u001b[34m██████████\u001b[0m| 00:00 Sampling completed                       \n",
      "chain 2 |\u001b[34m██████████\u001b[0m| 00:00 Sampling completed                       \n",
      "chain 3 |\u001b[34m██████████\u001b[0m| 00:00 Sampling completed                       \n",
      "chain 4 |\u001b[34m██████████\u001b[0m| 00:00 Sampling completed                       "
     ]
    },
    {
     "name": "stdout",
     "output_type": "stream",
     "text": [
      "                                                                                                                                                                                                                                                                                                                                "
     ]
    },
    {
     "name": "stderr",
     "output_type": "stream",
     "text": [
      "\n",
      "INFO:cmdstanpy:CmdStan done processing.\n"
     ]
    },
    {
     "name": "stdout",
     "output_type": "stream",
     "text": [
      "\n"
     ]
    }
   ],
   "source": [
    "model_2_fit=CmdStanModel(stan_file='height_2_fit.stan')\n",
    "N = 50\n",
    "data_fit = {'N': N, 'weights': d.weight.values[:N], 'heights': d.height.values[:N]}\n",
    "fit=model_2_fit.sample(data=data_fit,seed=28052020)"
   ]
  },
  {
   "cell_type": "code",
   "execution_count": 98,
   "metadata": {
    "vscode": {
     "languageId": "python"
    }
   },
   "outputs": [
    {
     "data": {
      "image/png": "[encoded data removed]",
      "text/plain": [
       "<Figure size 432x288 with 1 Axes>"
      ]
     },
     "metadata": {
      "needs_background": "light"
     },
     "output_type": "display_data"
    }
   ],
   "source": [
    "alpha_sim = fit.draws_pd()['alpha']\n",
    "beta_sim = fit.draws_pd()['beta']\n",
    "weights = np.linspace(d.weight.min(), d.weight.max(), 50)\n",
    "\n",
    "# Plot lines for each slope\n",
    "for i in range(50):\n",
    "    alpha_i = alpha_sim[i]\n",
    "    beta_i = beta_sim[i]\n",
    "    heights_i = alpha_i + beta_i * weights\n",
    "    plt.plot(weights, heights_i, color='gray', alpha=0.2)\n",
    "    \n",
    "# Plot mean line for alpha and beta\n",
    "alpha_mean = alpha_sim.mean()\n",
    "beta_mean = beta_sim.mean()\n",
    "heights_mean = alpha_mean + beta_mean * weights\n",
    "plt.plot(weights, heights_mean, color='blue', label='mean')\n",
    "plt.scatter(d.weight[:N], d.height[:N], color='black', label='observed')\n",
    "plt.legend()\n",
    "plt.xlabel('Weight')\n",
    "plt.ylabel('Height')\n",
    "plt.show()"
   ]
  },
  {
   "cell_type": "code",
   "execution_count": 99,
   "metadata": {
    "vscode": {
     "languageId": "python"
    }
   },
   "outputs": [
    {
     "data": {
      "image/png": "[encoded data removed]",
      "text/plain": [
       "<Figure size 432x288 with 1 Axes>"
      ]
     },
     "metadata": {
      "needs_background": "light"
     },
     "output_type": "display_data"
    }
   ],
   "source": [
    "# Calculate mean and standard deviation of height for each weight value\n",
    "heights_sim = fit.draws_pd().loc[:, 'height[1]':'height[50]'].values\n",
    "heights_mean = heights_sim.mean(axis=1)[:N]\n",
    "heights_std = heights_sim.std(axis=1)[:N]\n",
    "\n",
    "# Plot \n",
    "plt.errorbar(d.weight.values[:N], heights_mean, yerr=heights_std, fmt='o', color='blue', label='simulated')\n",
    "plt.scatter(d.weight[:N], d.height[:N], color='black', label='observed')\n",
    "plt.legend()\n",
    "plt.xlabel('Weight')\n",
    "plt.ylabel('Height')\n",
    "plt.show()"
   ]
  },
  {
   "attachments": {},
   "cell_type": "markdown",
   "metadata": {},
   "source": [
    "### Task 7"
   ]
  },
  {
   "cell_type": "code",
   "execution_count": 100,
   "metadata": {
    "vscode": {
     "languageId": "python"
    }
   },
   "outputs": [
    {
     "name": "stdout",
     "output_type": "stream",
     "text": [
      "Overwriting height_3_fit.stan\n"
     ]
    }
   ],
   "source": [
    "%%writefile height_3_fit.stan\n",
    "\n",
    "data {\n",
    "  int<lower=0> N;\n",
    "  real heights[N];\n",
    "  real weights_centered[N];\n",
    "}\n",
    "\n",
    "parameters {\n",
    "  real<lower=0> alpha;\n",
    "  real<lower=0> beta;\n",
    "  real<lower=0> beta_2;\n",
    "  real<lower=0> sigma;\n",
    "}\n",
    "\n",
    "transformed parameters {\n",
    "  vector[N] mean;\n",
    "  for (i in 1:N) {\n",
    "    mean[i] = alpha + beta * weights_centered[i] + beta_2  * pow(weights_centered[i], 2);\n",
    "  }\n",
    "}\n",
    "\n",
    "model {\n",
    "  alpha ~ normal(165, 10);\n",
    "  beta ~ lognormal(0, 1);\n",
    "  beta_2 ~ normal(0, 1);\n",
    "  sigma ~ cauchy(0, 10);\n",
    "  \n",
    "  heights ~ normal(mean, sigma);\n",
    "}\n",
    "\n",
    "generated quantities {\n",
    "  real height[N];\n",
    "  for (i in 1:N) {\n",
    "    height[i] = normal_rng(mean[i], sigma);\n",
    "  }\n",
    "}\n"
   ]
  },
  {
   "cell_type": "code",
   "execution_count": 101,
   "metadata": {
    "vscode": {
     "languageId": "python"
    }
   },
   "outputs": [
    {
     "name": "stderr",
     "output_type": "stream",
     "text": [
      "INFO:cmdstanpy:compiling stan file /height_3_fit.stan to exe file /height_3_fit\n",
      "INFO:cmdstanpy:compiled model executable: /height_3_fit\n",
      "WARNING:cmdstanpy:Stan compiler has produced 3 warnings:\n",
      "WARNING:cmdstanpy:\n",
      "--- Translating Stan model to C++ code ---\n",
      "bin/stanc  --o=/height_3_fit.hpp /height_3_fit.stan\n",
      "Warning in '/height_3_fit.stan', line 4, column 2: Declaration of arrays by\n",
      "    placing brackets after a variable name is deprecated and will be removed\n",
      "    in Stan 2.32.0. Instead use the array keyword before the type. This can\n",
      "    be changed automatically using the auto-format flag to stanc\n",
      "Warning in '/height_3_fit.stan', line 5, column 2: Declaration of arrays by\n",
      "    placing brackets after a variable name is deprecated and will be removed\n",
      "    in Stan 2.32.0. Instead use the array keyword before the type. This can\n",
      "    be changed automatically using the auto-format flag to stanc\n",
      "Warning in '/height_3_fit.stan', line 32, column 2: Declaration of arrays by\n",
      "    placing brackets after a variable name is deprecated and will be removed\n",
      "    in Stan 2.32.0. Instead use the array keyword before the type. This can\n",
      "    be changed automatically using the auto-format flag to stanc\n",
      "\n",
      "--- Compiling, linking C++ code ---\n",
      "g++ -std=c++1y -pthread -D_REENTRANT -Wno-sign-compare -Wno-ignored-attributes      -I stan/lib/stan_math/lib/tbb_2020.3/include    -O3 -I src -I stan/src -I lib/rapidjson_1.1.0/ -I lib/CLI11-1.9.1/ -I stan/lib/stan_math/ -I stan/lib/stan_math/lib/eigen_3.3.9 -I stan/lib/stan_math/lib/boost_1.75.0 -I stan/lib/stan_math/lib/sundials_6.0.0/include -I stan/lib/stan_math/lib/sundials_6.0.0/src/sundials    -DBOOST_DISABLE_ASSERTS          -c -Wno-ignored-attributes   -x c++ -o /height_3_fit.o /height_3_fit.hpp\n",
      "g++ -std=c++1y -pthread -D_REENTRANT -Wno-sign-compare -Wno-ignored-attributes      -I stan/lib/stan_math/lib/tbb_2020.3/include    -O3 -I src -I stan/src -I lib/rapidjson_1.1.0/ -I lib/CLI11-1.9.1/ -I stan/lib/stan_math/ -I stan/lib/stan_math/lib/eigen_3.3.9 -I stan/lib/stan_math/lib/boost_1.75.0 -I stan/lib/stan_math/lib/sundials_6.0.0/include -I stan/lib/stan_math/lib/sundials_6.0.0/src/sundials    -DBOOST_DISABLE_ASSERTS                -Wl,-L,\"/opt/cmdstan-2.29.0/stan/lib/stan_math/lib/tbb\" -Wl,-rpath,\"/opt/cmdstan-2.29.0/stan/lib/stan_math/lib/tbb\"      /height_3_fit.o src/cmdstan/main.o        -Wl,-L,\"/opt/cmdstan-2.29.0/stan/lib/stan_math/lib/tbb\" -Wl,-rpath,\"/opt/cmdstan-2.29.0/stan/lib/stan_math/lib/tbb\"   stan/lib/stan_math/lib/sundials_6.0.0/lib/libsundials_nvecserial.a stan/lib/stan_math/lib/sundials_6.0.0/lib/libsundials_cvodes.a stan/lib/stan_math/lib/sundials_6.0.0/lib/libsundials_idas.a stan/lib/stan_math/lib/sundials_6.0.0/lib/libsundials_kinsol.a  stan/lib/stan_math/lib/tbb/libtbb.so.2 -o /height_3_fit\n",
      "rm -f /height_3_fit.o\n",
      "\n",
      "INFO:cmdstanpy:CmdStan start processing\n",
      "chain 1 |\u001b[33m          \u001b[0m| 00:00 Status\n",
      "\u001b[A\n",
      "\n",
      "chain 1 |\u001b[33m██▋       \u001b[0m| 00:00 Iteration:  400 / 2000 [ 20%]  (Warmup)\n",
      "\u001b[A\n",
      "\n",
      "chain 1 |\u001b[34m██████████\u001b[0m| 00:00 Iteration: 1900 / 2000 [ 95%]  (Sampling)\n",
      "\u001b[A\n",
      "\n",
      "chain 1 |\u001b[34m██████████\u001b[0m| 00:00 Sampling completed                       \n",
      "chain 2 |\u001b[34m██████████\u001b[0m| 00:00 Sampling completed\n",
      "chain 3 |\u001b[34m██████████\u001b[0m| 00:00 Sampling completed                       \n",
      "chain 4 |\u001b[34m██████████\u001b[0m| 00:00 Sampling completed                       "
     ]
    },
    {
     "name": "stdout",
     "output_type": "stream",
     "text": [
      "                                                                                                                                                                                                                                                                                                                                "
     ]
    },
    {
     "name": "stderr",
     "output_type": "stream",
     "text": [
      "\n",
      "INFO:cmdstanpy:CmdStan done processing.\n"
     ]
    },
    {
     "name": "stdout",
     "output_type": "stream",
     "text": [
      "\n"
     ]
    },
    {
     "data": {
      "image/png": "[encoded data removed]",
      "text/plain": [
       "<Figure size 432x288 with 1 Axes>"
      ]
     },
     "metadata": {
      "needs_background": "light"
     },
     "output_type": "display_data"
    },
    {
     "data": {
      "image/png": "[encoded data removed]",
      "text/plain": [
       "<Figure size 432x288 with 1 Axes>"
      ]
     },
     "metadata": {
      "needs_background": "light"
     },
     "output_type": "display_data"
    }
   ],
   "source": [
    "N = 50\n",
    "model_3_fit=CmdStanModel(stan_file='height_3_fit.stan')\n",
    "weights_centered = d.weight.values[:N] - d.weight.values[:N].mean()\n",
    "data_centered = {'N': N, 'weights_centered': weights_centered, 'heights': d.height.values[:N]}\n",
    "fit=model_3_fit.sample(data=data_centered,seed=28052020)\n",
    "\n",
    "beta_2_sim = fit.draws_pd()['beta_2']\n",
    "plt.hist(beta_2_sim, density=True, bins=20, alpha=0.7)\n",
    "plt.xlabel('beta_2')\n",
    "plt.ylabel('Density')\n",
    "plt.title('Posterior distribution of beta_2')\n",
    "plt.show()\n",
    "\n",
    "# Plot the predicted mean heights and compare with the observed data\n",
    "weights_test = np.linspace(d.weight.min(), d.weight.max(), 100)\n",
    "weights_test_centered = weights_test - d.weight.values[:N].mean()\n",
    "\n",
    "# Calculate the predicted mean heights for the test weights\n",
    "beta_2_draws = fit.draws_pd()['beta_2']\n",
    "mean_test = np.mean(fit.draws_pd()['alpha']) + np.mean(fit.draws_pd()['beta']) * weights_test_centered + np.mean(beta_2_draws) * weights_test_centered ** 2\n",
    "\n",
    "# Calculate the one standard deviation error bars for the predicted mean heights\n",
    "std_test = np.std(fit.draws_pd()['alpha']) + np.std(fit.draws_pd()['beta']) * weights_test_centered + np.std(beta_2_draws) * weights_test_centered ** 2\n",
    "upper_test = mean_test + std_test\n",
    "lower_test = mean_test - std_test\n",
    "\n",
    "# Plot the predicted mean heights and error bars along with the observed data\n",
    "plt.errorbar(d.weight.values[:N], d.height.values[:N], fmt='o', label='Observed')\n",
    "plt.plot(weights_test, mean_test, label='Predicted')\n",
    "plt.fill_between(weights_test, lower_test, upper_test, alpha=0.2)\n",
    "plt.xlabel('Weight')\n",
    "plt.ylabel('Height')\n",
    "plt.title('Predicted mean heights with error bars')\n",
    "plt.legend()\n",
    "plt.show()"
   ]
  }
 ],
 "metadata": {
  "kernelspec": {
   "display_name": "Python 3 (ipykernel)",
   "language": "python",
   "name": "python3"
  },
  "orig_nbformat": 4
 },
 "nbformat": 4,
 "nbformat_minor": 2
}
