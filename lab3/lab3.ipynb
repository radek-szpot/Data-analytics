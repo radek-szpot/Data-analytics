{
 "cells": [
  {
   "attachments": {},
   "cell_type": "markdown",
   "metadata": {},
   "source": [
    "# <center>Data Analytics laboratory </center>\n",
    "\n",
    "## <center>Prior and Posterior predictive distributions</center>"
   ]
  },
  {
   "cell_type": "code",
   "execution_count": 1,
   "metadata": {},
   "outputs": [
    {
     "name": "stderr",
     "output_type": "stream",
     "text": [
      "/usr/local/lib/python3.9/site-packages/tqdm/auto.py:22: TqdmWarning: IProgress not found. Please update jupyter and ipywidgets. See https://ipywidgets.readthedocs.io/en/stable/user_install.html\n",
      "  from .autonotebook import tqdm as notebook_tqdm\n"
     ]
    }
   ],
   "source": [
    "from cmdstanpy import CmdStanModel\n",
    "import pandas as pd\n",
    "import arviz as az \n",
    "import numpy as np\n",
    "import matplotlib.pyplot as plt\n",
    "import scipy.stats as stats\n",
    "\n",
    "import warnings\n",
    "warnings.filterwarnings('ignore')"
   ]
  },
  {
   "attachments": {},
   "cell_type": "markdown",
   "metadata": {},
   "source": [
    "### Modeling prior predictive distribution"
   ]
  },
  {
   "attachments": {},
   "cell_type": "markdown",
   "metadata": {},
   "source": [
    "We want to choose a prior distribution with a mean of 20% and a wide range.  \n",
    "     \n",
    "In this case, we could use a beta distribution with parameters α and β. We want a mean of 0.2 and wide range - so I assumed a variance of 0.05. From forumals:   \n",
    "$\\alpha = \\mu \\cdot \\left(\\frac{\\mu \\cdot (1-\\mu)}{\\sigma^2} - 1\\right)$ = 0.2 * ((0.2 * (1 - 0.2) / 0.05) - 1) ≈ 1.6   \n",
    "$\\beta = (1-\\mu) \\cdot \\left(\\frac{\\mu \\cdot (1-\\mu)}{\\sigma^2} - 1\\right)$ = 0.8 * ((0.2 * (1 - 0.2) / 0.05) - 1) ≈ 6.4\n"
   ]
  },
  {
   "cell_type": "code",
   "execution_count": 2,
   "metadata": {},
   "outputs": [
    {
     "name": "stdout",
     "output_type": "stream",
     "text": [
      "Overwriting code_2_1.stan\n"
     ]
    }
   ],
   "source": [
    "%%writefile code_2_1.stan\n",
    "\n",
    "generated quantities {\n",
    "  int<lower=0> N=50;\n",
    "  int<lower=0,upper=N> y;\n",
    "  real<lower=0,upper=1> p;\n",
    "  p=beta_rng(1.6, 6.4);\n",
    "  y=binomial_rng(N, p);\n",
    "}"
   ]
  },
  {
   "cell_type": "code",
   "execution_count": 3,
   "metadata": {},
   "outputs": [
    {
     "name": "stderr",
     "output_type": "stream",
     "text": [
      "INFO:cmdstanpy:compiling stan file /code_2_1.stan to exe file /code_2_1\n",
      "INFO:cmdstanpy:compiled model executable: /code_2_1\n",
      "INFO:cmdstanpy:CmdStan start processing\n",
      "chain 1 |\u001b[34m██████████\u001b[0m| 00:00 Sampling completed"
     ]
    },
    {
     "name": "stdout",
     "output_type": "stream",
     "text": [
      "                                                                                "
     ]
    },
    {
     "name": "stderr",
     "output_type": "stream",
     "text": [
      "\n",
      "INFO:cmdstanpy:CmdStan done processing.\n"
     ]
    },
    {
     "name": "stdout",
     "output_type": "stream",
     "text": [
      "\n"
     ]
    }
   ],
   "source": [
    "gen_quant = CmdStanModel(stan_file='code_2_1.stan')\n",
    "samples = gen_quant.sample(fixed_param=True, \n",
    "                            iter_sampling=1000, \n",
    "                            iter_warmup=0)"
   ]
  },
  {
   "cell_type": "code",
   "execution_count": 4,
   "metadata": {},
   "outputs": [
    {
     "data": {
      "text/plain": [
       "('lp__', 'accept_stat__', 'N', 'y', 'p')"
      ]
     },
     "execution_count": 4,
     "metadata": {},
     "output_type": "execute_result"
    }
   ],
   "source": [
    "samples.column_names"
   ]
  },
  {
   "cell_type": "code",
   "execution_count": 5,
   "metadata": {},
   "outputs": [
    {
     "data": {
      "text/html": [
       "<div>\n",
       "<style scoped>\n",
       "    .dataframe tbody tr th:only-of-type {\n",
       "        vertical-align: middle;\n",
       "    }\n",
       "\n",
       "    .dataframe tbody tr th {\n",
       "        vertical-align: top;\n",
       "    }\n",
       "\n",
       "    .dataframe thead th {\n",
       "        text-align: right;\n",
       "    }\n",
       "</style>\n",
       "<table border=\"1\" class=\"dataframe\">\n",
       "  <thead>\n",
       "    <tr style=\"text-align: right;\">\n",
       "      <th></th>\n",
       "      <th>N</th>\n",
       "      <th>y</th>\n",
       "      <th>p</th>\n",
       "    </tr>\n",
       "  </thead>\n",
       "  <tbody>\n",
       "    <tr>\n",
       "      <th>0</th>\n",
       "      <td>50.0</td>\n",
       "      <td>17.0</td>\n",
       "      <td>0.282338</td>\n",
       "    </tr>\n",
       "    <tr>\n",
       "      <th>1</th>\n",
       "      <td>50.0</td>\n",
       "      <td>14.0</td>\n",
       "      <td>0.191181</td>\n",
       "    </tr>\n",
       "    <tr>\n",
       "      <th>2</th>\n",
       "      <td>50.0</td>\n",
       "      <td>5.0</td>\n",
       "      <td>0.031033</td>\n",
       "    </tr>\n",
       "    <tr>\n",
       "      <th>3</th>\n",
       "      <td>50.0</td>\n",
       "      <td>25.0</td>\n",
       "      <td>0.507039</td>\n",
       "    </tr>\n",
       "    <tr>\n",
       "      <th>4</th>\n",
       "      <td>50.0</td>\n",
       "      <td>14.0</td>\n",
       "      <td>0.161867</td>\n",
       "    </tr>\n",
       "    <tr>\n",
       "      <th>...</th>\n",
       "      <td>...</td>\n",
       "      <td>...</td>\n",
       "      <td>...</td>\n",
       "    </tr>\n",
       "    <tr>\n",
       "      <th>995</th>\n",
       "      <td>50.0</td>\n",
       "      <td>12.0</td>\n",
       "      <td>0.215125</td>\n",
       "    </tr>\n",
       "    <tr>\n",
       "      <th>996</th>\n",
       "      <td>50.0</td>\n",
       "      <td>23.0</td>\n",
       "      <td>0.504344</td>\n",
       "    </tr>\n",
       "    <tr>\n",
       "      <th>997</th>\n",
       "      <td>50.0</td>\n",
       "      <td>9.0</td>\n",
       "      <td>0.238252</td>\n",
       "    </tr>\n",
       "    <tr>\n",
       "      <th>998</th>\n",
       "      <td>50.0</td>\n",
       "      <td>10.0</td>\n",
       "      <td>0.157166</td>\n",
       "    </tr>\n",
       "    <tr>\n",
       "      <th>999</th>\n",
       "      <td>50.0</td>\n",
       "      <td>7.0</td>\n",
       "      <td>0.138462</td>\n",
       "    </tr>\n",
       "  </tbody>\n",
       "</table>\n",
       "<p>1000 rows × 3 columns</p>\n",
       "</div>"
      ],
      "text/plain": [
       "        N     y         p\n",
       "0    50.0  17.0  0.282338\n",
       "1    50.0  14.0  0.191181\n",
       "2    50.0   5.0  0.031033\n",
       "3    50.0  25.0  0.507039\n",
       "4    50.0  14.0  0.161867\n",
       "..    ...   ...       ...\n",
       "995  50.0  12.0  0.215125\n",
       "996  50.0  23.0  0.504344\n",
       "997  50.0   9.0  0.238252\n",
       "998  50.0  10.0  0.157166\n",
       "999  50.0   7.0  0.138462\n",
       "\n",
       "[1000 rows x 3 columns]"
      ]
     },
     "execution_count": 5,
     "metadata": {},
     "output_type": "execute_result"
    }
   ],
   "source": [
    "df = pd.DataFrame(samples.draws()[:,:, 2:].reshape((1000, 3)))\n",
    "df.columns = samples.column_names[2:]\n",
    "df"
   ]
  },
  {
   "cell_type": "code",
   "execution_count": 7,
   "metadata": {},
   "outputs": [
    {
     "data": {
      "image/png": "[encoded data removed]",
      "text/plain": [
       "<Figure size 432x288 with 1 Axes>"
      ]
     },
     "metadata": {
      "needs_background": "light"
     },
     "output_type": "display_data"
    }
   ],
   "source": [
    "y = df.iloc[:, 1]\n",
    "N = df.iloc[:, 0]\n",
    "ratio = y/N\n",
    "\n",
    "plt.hist(ratio)\n",
    "plt.title(\"allergic reactions ratio\")\n",
    "plt.show()\n"
   ]
  },
  {
   "cell_type": "code",
   "execution_count": 10,
   "metadata": {},
   "outputs": [
    {
     "data": {
      "text/plain": [
       "0.19738000000000003"
      ]
     },
     "execution_count": 10,
     "metadata": {},
     "output_type": "execute_result"
    }
   ],
   "source": [
    "# Verify if mean of the ratio is consistent with prior knowledge, \n",
    "# otherwise modify prior parameters. \n",
    "# Describe your reasoning in the report.\n",
    "mean_ratio = np.mean(ratio)\n",
    "mean_ratio"
   ]
  },
  {
   "attachments": {},
   "cell_type": "markdown",
   "metadata": {},
   "source": [
    "The mean of the ratio is consistent with our prior knowledge, as it falls within the range of 20% +/- 5%. Specifically, we have observed a ratio of 19.7%, which is within this range and suggests that our prior belief about the likelihood of an allergic reaction occurring with this vaccine was accurate."
   ]
  },
  {
   "attachments": {},
   "cell_type": "markdown",
   "metadata": {},
   "source": [
    "### Modeling posterior and posterior predictive distribution"
   ]
  },
  {
   "cell_type": "code",
   "execution_count": 16,
   "metadata": {},
   "outputs": [
    {
     "name": "stdout",
     "output_type": "stream",
     "text": [
      "Overwriting code_2_2.stan\n"
     ]
    }
   ],
   "source": [
    "%%writefile code_2_2.stan\n",
    "data {\n",
    "  int<lower=0> N;\n",
    "  int<lower=0,upper=N> y;\n",
    "}\n",
    "\n",
    "parameters {\n",
    "  real<lower=0,upper=1> p;\n",
    "}\n",
    "\n",
    "model {\n",
    "  p ~ beta(1.6, 6.4);\n",
    "  y ~ binomial(N, p);\n",
    "}\n",
    "\n",
    "generated quantities {\n",
    "  int<lower=0, upper=N> y_pred = binomial_rng(N, p);\n",
    "}"
   ]
  },
  {
   "cell_type": "code",
   "execution_count": 21,
   "metadata": {},
   "outputs": [
    {
     "data": {
      "text/plain": [
       "9.869"
      ]
     },
     "execution_count": 21,
     "metadata": {},
     "output_type": "execute_result"
    }
   ],
   "source": [
    "np.mean(y)"
   ]
  },
  {
   "cell_type": "code",
   "execution_count": 26,
   "metadata": {},
   "outputs": [
    {
     "name": "stderr",
     "output_type": "stream",
     "text": [
      "INFO:cmdstanpy:found newer exe file, not recompiling\n",
      "INFO:cmdstanpy:CmdStan start processing\n",
      "chain 1 |\u001b[33m          \u001b[0m| 00:00 Status\n",
      "\u001b[A\n",
      "\n",
      "chain 1 |\u001b[34m██████████\u001b[0m| 00:00 Sampling completed\n",
      "chain 2 |\u001b[34m██████████\u001b[0m| 00:00 Sampling completed\n",
      "chain 3 |\u001b[34m██████████\u001b[0m| 00:00 Sampling completed\n",
      "chain 4 |\u001b[34m██████████\u001b[0m| 00:00 Sampling completed"
     ]
    },
    {
     "name": "stdout",
     "output_type": "stream",
     "text": [
      "                                                                                                                                                                                                                                                                                                                                "
     ]
    },
    {
     "name": "stderr",
     "output_type": "stream",
     "text": [
      "\n",
      "INFO:cmdstanpy:CmdStan done processing.\n"
     ]
    },
    {
     "name": "stdout",
     "output_type": "stream",
     "text": [
      "\n"
     ]
    }
   ],
   "source": [
    "gen_quant = CmdStanModel(stan_file='code_2_2.stan')\n",
    "y_pred_samples = gen_quant.sample(data={'N':50, 'y':10})"
   ]
  },
  {
   "cell_type": "code",
   "execution_count": 27,
   "metadata": {},
   "outputs": [
    {
     "data": {
      "text/html": [
       "<div>\n",
       "<style scoped>\n",
       "    .dataframe tbody tr th:only-of-type {\n",
       "        vertical-align: middle;\n",
       "    }\n",
       "\n",
       "    .dataframe tbody tr th {\n",
       "        vertical-align: top;\n",
       "    }\n",
       "\n",
       "    .dataframe thead th {\n",
       "        text-align: right;\n",
       "    }\n",
       "</style>\n",
       "<table border=\"1\" class=\"dataframe\">\n",
       "  <thead>\n",
       "    <tr style=\"text-align: right;\">\n",
       "      <th></th>\n",
       "      <th>lp__</th>\n",
       "      <th>accept_stat__</th>\n",
       "      <th>stepsize__</th>\n",
       "      <th>treedepth__</th>\n",
       "      <th>n_leapfrog__</th>\n",
       "      <th>divergent__</th>\n",
       "      <th>energy__</th>\n",
       "      <th>p</th>\n",
       "      <th>y_pred</th>\n",
       "    </tr>\n",
       "  </thead>\n",
       "  <tbody>\n",
       "    <tr>\n",
       "      <th>0</th>\n",
       "      <td>-29.0485</td>\n",
       "      <td>1.000000</td>\n",
       "      <td>1.12722</td>\n",
       "      <td>1.0</td>\n",
       "      <td>1.0</td>\n",
       "      <td>0.0</td>\n",
       "      <td>29.0609</td>\n",
       "      <td>0.188403</td>\n",
       "      <td>7.0</td>\n",
       "    </tr>\n",
       "    <tr>\n",
       "      <th>1</th>\n",
       "      <td>-29.3303</td>\n",
       "      <td>0.922977</td>\n",
       "      <td>1.12722</td>\n",
       "      <td>1.0</td>\n",
       "      <td>3.0</td>\n",
       "      <td>0.0</td>\n",
       "      <td>29.4347</td>\n",
       "      <td>0.243182</td>\n",
       "      <td>11.0</td>\n",
       "    </tr>\n",
       "    <tr>\n",
       "      <th>2</th>\n",
       "      <td>-29.1606</td>\n",
       "      <td>1.000000</td>\n",
       "      <td>1.12722</td>\n",
       "      <td>2.0</td>\n",
       "      <td>3.0</td>\n",
       "      <td>0.0</td>\n",
       "      <td>29.2789</td>\n",
       "      <td>0.173452</td>\n",
       "      <td>12.0</td>\n",
       "    </tr>\n",
       "    <tr>\n",
       "      <th>3</th>\n",
       "      <td>-29.2907</td>\n",
       "      <td>0.966442</td>\n",
       "      <td>1.12722</td>\n",
       "      <td>1.0</td>\n",
       "      <td>1.0</td>\n",
       "      <td>0.0</td>\n",
       "      <td>29.3072</td>\n",
       "      <td>0.163496</td>\n",
       "      <td>7.0</td>\n",
       "    </tr>\n",
       "    <tr>\n",
       "      <th>4</th>\n",
       "      <td>-29.0417</td>\n",
       "      <td>1.000000</td>\n",
       "      <td>1.12722</td>\n",
       "      <td>2.0</td>\n",
       "      <td>3.0</td>\n",
       "      <td>0.0</td>\n",
       "      <td>29.2529</td>\n",
       "      <td>0.210203</td>\n",
       "      <td>6.0</td>\n",
       "    </tr>\n",
       "  </tbody>\n",
       "</table>\n",
       "</div>"
      ],
      "text/plain": [
       "      lp__  accept_stat__  stepsize__  treedepth__  n_leapfrog__  divergent__  \\\n",
       "0 -29.0485       1.000000     1.12722          1.0           1.0          0.0   \n",
       "1 -29.3303       0.922977     1.12722          1.0           3.0          0.0   \n",
       "2 -29.1606       1.000000     1.12722          2.0           3.0          0.0   \n",
       "3 -29.2907       0.966442     1.12722          1.0           1.0          0.0   \n",
       "4 -29.0417       1.000000     1.12722          2.0           3.0          0.0   \n",
       "\n",
       "   energy__         p  y_pred  \n",
       "0   29.0609  0.188403     7.0  \n",
       "1   29.4347  0.243182    11.0  \n",
       "2   29.2789  0.173452    12.0  \n",
       "3   29.3072  0.163496     7.0  \n",
       "4   29.2529  0.210203     6.0  "
      ]
     },
     "execution_count": 27,
     "metadata": {},
     "output_type": "execute_result"
    }
   ],
   "source": [
    "df = y_pred_samples.draws_pd()\n",
    "df.head()"
   ]
  },
  {
   "cell_type": "code",
   "execution_count": 42,
   "metadata": {},
   "outputs": [
    {
     "data": {
      "image/png": "[encoded data removed]",
      "text/plain": [
       "<Figure size 432x288 with 1 Axes>"
      ]
     },
     "metadata": {
      "needs_background": "light"
     },
     "output_type": "display_data"
    }
   ],
   "source": [
    "y_pred = df.iloc[:, 8]\n",
    "ratio = y_pred / 50\n",
    "\n",
    "plt.hist(ratio)\n",
    "plt.title(\"allergic reactions ratio\")\n",
    "plt.show()"
   ]
  },
  {
   "cell_type": "code",
   "execution_count": 54,
   "metadata": {},
   "outputs": [
    {
     "name": "stdout",
     "output_type": "stream",
     "text": [
      "Parameter p:\n",
      "Expected value: 0.200272800625\n",
      "94% credible interval: [0.105686, 0.297933]\n",
      "\n",
      "Predicted ratio:\n",
      "Expected value: 0.20074500000000003\n",
      "94% credible interval: [0.08, 0.36]\n",
      "\n"
     ]
    }
   ],
   "source": [
    "# Compute the expected value and 94% density interval \n",
    "# of the predicted ratio, compare it with expected value \n",
    "# and 94% density interval of parameter p. Use arviz package.\n",
    "ratio_expected = np.mean(ratio)\n",
    "ratio_ci = az.hdi(ratio.to_numpy(), hdi_prob=0.94)\n",
    "\n",
    "p_expected = np.mean(df.iloc[:, 7].to_numpy())\n",
    "p_ci = az.hdi(df.iloc[:, 7].to_numpy(), hdi_prob=0.94)\n",
    "\n",
    "print(\"Parameter p:\")\n",
    "print(f\"Expected value: {p_expected}\")\n",
    "print(f\"94% credible interval: [{p_ci[0]}, {p_ci[1]}]\\n\")\n",
    "\n",
    "print(\"Predicted ratio:\")\n",
    "print(f\"Expected value: {ratio_expected}\")\n",
    "print(f\"94% credible interval: [{ratio_ci[0]}, {ratio_ci[1]}]\\n\")\n"
   ]
  },
  {
   "cell_type": "code",
   "execution_count": 58,
   "metadata": {},
   "outputs": [
    {
     "name": "stdout",
     "output_type": "stream",
     "text": [
      "Probability that ratio is lower than average probability: 0.47975\n"
     ]
    }
   ],
   "source": [
    "# Compute the probability that ratio is lower than the average \n",
    "# probability from traditional vaccines \n",
    "# (count the number of simulated ratios that are smaller).\n",
    "\n",
    "num_smaller = np.sum(ratio < 0.2)\n",
    "prob_smaller = num_smaller / len(ratio)\n",
    "print(f\"Probability that ratio is lower than average probability: {ratio_prob}\")"
   ]
  }
 ],
 "metadata": {
  "kernelspec": {
   "display_name": "Python 3 (ipykernel)",
   "language": "python",
   "name": "python3"
  },
  "language_info": {
   "codemirror_mode": {
    "name": "ipython",
    "version": 3
   },
   "file_extension": ".py",
   "mimetype": "text/x-python",
   "name": "python",
   "nbconvert_exporter": "python",
   "pygments_lexer": "ipython3",
   "version": "3.9.11"
  },
  "orig_nbformat": 4
 },
 "nbformat": 4,
 "nbformat_minor": 2
}
